{
 "cells": [
  {
   "cell_type": "code",
   "execution_count": null,
   "metadata": {
    "editable": true,
    "slideshow": {
     "slide_type": ""
    },
    "tags": [
     "hide-input"
    ]
   },
   "outputs": [],
   "source": [
    "import matplotlib.pyplot as plt\n",
    "#%matplotlib notebook\n",
    "%matplotlib widget\n",
    "%matplotlib inline\n",
    "    \n",
    "import pandas as pd\n",
    "from mpl_toolkits import mplot3d\n",
    "#from mpl_toolkits.mplot3d import Axes3D\n",
    "\n",
    "import numpy as np\n",
    "\n",
    "deaths = pd.read_excel (\"deathsyoauk2017tablesfinal.xls\", nrows=106, usecols=\"B:BD\", sheet_name=\"Table 3\", skiprows=[0,1,2])\n",
    "#deaths = pd.read_excel (\"https://bit.ly/2OVxChn\", nrows=106, usecols=\"B:BD\", sheet_name=\"Table 3\", skiprows=[0,1,2])\n",
    "#deaths = pd.read_excel (\"https://www.ons.gov.uk/file?uri=/peoplepopulationandcommunity/birthsdeathsandmarriages/deaths/datasets/deathregistrationssummarytablesenglandandwalesdeathsbysingleyearofagetables/2017/deathsyoauk2017tablesfinal.xls\", nrows=106, usecols=\"B:BD\", sheet_name=\"Table 3\", skiprows=[0,1,2])\n",
    "\n",
    "# has suffix in table 1: deaths.rename (columns={\"2017p\": 2017}, inplace=True) # also need this in read_excel: usecols=\"B:AS\", \n",
    "\n",
    "#print (deaths.columns, deaths.index)"
   ]
  },
  {
   "cell_type": "code",
   "execution_count": null,
   "metadata": {
    "editable": true,
    "slideshow": {
     "slide_type": ""
    },
    "tags": [
     "hide-input"
    ]
   },
   "outputs": [],
   "source": [
    "\n",
    "\n",
    "#print (deaths.shape)\n",
    "def z_function(x, y):\n",
    "    return np.sin(np.sqrt(x ** 2 + y ** 2))\n",
    "\n",
    "def z_f (x, y):\n",
    "    ret = np.full (shape=(105, 54), fill_value=0.0) #shape = (len(x), len (y)), fill_value = 0.0)\n",
    "    #print (\"zf\", len (x), len (y), ret.shape)\n",
    "    for i in range (0, len (x)):\n",
    "        for j in range (0, 54):\n",
    "#            print (\"setting {}, {} to {}\".format (i, j, deaths.iloc[j,i]))\n",
    "            try:\n",
    "                #print (deaths.iloc [i, j])\n",
    "                ret [i, j] = deaths.iloc [i, j] #pass #print (x)\n",
    "            except Exception as e:\n",
    "                print (\"broken\", i, j, ret.shape, deaths.shape, e)\n",
    "        \n",
    "    return ret\n",
    "\n",
    "x= deaths.columns[1:] # columns 0 is the header for Ages\n",
    "y= deaths.index [1:] # index[0] is the header\n",
    "\n",
    "\n",
    "X, Y = np.meshgrid(x, y)\n",
    "Z = z_f (X, Y)\n"
   ]
  },
  {
   "cell_type": "markdown",
   "metadata": {},
   "source": [
    "# Evolution of Age at Death for England Tells many Stories\n",
    "\n",
    "The plot below is intended to be interactive: you can zoom in, out and around it to get a feel for the overall shape and anomalies.\n",
    "\n",
    "This quite simple presentation of how the age at death has evolved can support a number of interesting stories, including:\n",
    "\n",
    "## Those not born during WWI and WWII\n",
    "The grooves of those not born due to soldiers at war, and the corresponding peaks from home comings carve through the ageing peaks\n",
    "\n",
    "## How dangerous the first year of life used to be\n",
    "The first year of life is still much more dangerous than the following decades, but it used to be much worse and was until the early '70s the most dangerous age to be.\n",
    "\n",
    "## The slight uptick of risk for adolescents and early adulthood\n",
    "\n",
    "## Although middle ages has got considerably safer, life has not extended\n",
    "The trailing edge of the curve gets increasingly steep. Unfortunately for many, much of the extension is much more about living with poor health conditions, rather than enjoying later life.\n",
    "\n",
    "## Averages can be misleading\n",
    "Taking the early annual snapshots, especially, illustrates how misleading 'life expectancy' for a population can be. Although it's not easy to trace the actual age at death for any give cohort - there aren't enough years covered to do this - a good approximation can be deduced by slicing along a year. This exercise illustrates how it is possible for the expected life span for a given group to be skewed by infant death in particular, and early deaths in general."
   ]
  },
  {
   "cell_type": "code",
   "execution_count": null,
   "metadata": {
    "editable": true,
    "slideshow": {
     "slide_type": ""
    },
    "tags": [
     "hide-input"
    ]
   },
   "outputs": [],
   "source": [
    "# from plotly example\n",
    "\n",
    "# Import dependencies\n",
    "import plotly\n",
    "import plotly.graph_objs as go\n",
    "\n",
    "# Configure Plotly to be rendered inline in the notebook.\n",
    "plotly.offline.init_notebook_mode()\n",
    "\n",
    "# Configure the trace.\n",
    "#trace = go.Scatter3d(\n",
    "#    x= X.flatten(), #[1, 2, 3],  # <-- Put your data instead\n",
    "#    y= Y.flatten(), #[4, 5, 6],  # <-- Put your data instead\n",
    "#    z= Z.flatten(), #[7, 8, 9],  # <-- Put your data instead\n",
    "#    mode='markers',\n",
    "#    marker={\n",
    "#        'size': 10,\n",
    "#        'opacity': 0.8,\n",
    "#    }\n",
    "#)\n",
    "\n",
    "figure = go.Figure (data=[go.Surface (x=X, y=Y, z=Z, opacity=0.5)])\n",
    "\n",
    "# Configure the layout.\n",
    "layout = go.Layout(\n",
    "    margin={'l': 0, 'r': 0, 'b': 0, 't': 0}\n",
    ")\n",
    "\n",
    "#data = [trace]\n",
    "\n",
    "#plot_figure = go.Figure(data=data, layout=layout)\n",
    "\n",
    "figure.update_layout(\n",
    "    title=dict(\n",
    "        text=\"Evolution of Age at Death\"\n",
    "    ),\n",
    "    width=1200, height=1000,\n",
    "    scene = dict (\n",
    "        xaxis = dict (title= \"year\"),\n",
    "        yaxis = dict (title=\"age\"),\n",
    "        zaxis = dict (title=\"count\")\n",
    "    ),\n",
    "    #zaxis = dict (title=\"z title\"),\n",
    "    legend=dict(\n",
    "        title=dict(\n",
    "            text=\"Legend Title\"\n",
    "        )\n",
    "    ),\n",
    "    font=dict(\n",
    "        family=\"Courier New, monospace\",\n",
    "        size=18,\n",
    "        color=\"RebeccaPurple\"\n",
    "    )\n",
    ")\n",
    "\n",
    "#plotly.offline.iplot(plot_figure)\n",
    "plotly.offline.iplot(figure)"
   ]
  }
 ],
 "metadata": {
  "kernelspec": {
   "display_name": "Python 3 (ipykernel)",
   "language": "python",
   "name": "python3"
  },
  "language_info": {
   "codemirror_mode": {
    "name": "ipython",
    "version": 3
   },
   "file_extension": ".py",
   "mimetype": "text/x-python",
   "name": "python",
   "nbconvert_exporter": "python",
   "pygments_lexer": "ipython3",
   "version": "3.13.5"
  }
 },
 "nbformat": 4,
 "nbformat_minor": 4
}
